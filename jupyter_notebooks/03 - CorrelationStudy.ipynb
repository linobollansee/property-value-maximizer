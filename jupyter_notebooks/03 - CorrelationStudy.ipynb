{
  "cells": [
    {
      "cell_type": "markdown",
      "metadata": {
        "id": "0aStgWSO0E0E"
      },
      "source": [
        "# **03 - CorrelationStudy**"
      ]
    },
    {
      "cell_type": "markdown",
      "metadata": {
        "id": "1eLEkw5O0ECa"
      },
      "source": [
        "## Objectives\n",
        "\n",
        "* Identify the house attributes that correlate with the target variable: `SalePrice`\n",
        "\n",
        "## Inputs\n",
        "\n",
        "* outputs/datasets/cleaned/HousePricesCleaned.csv\n",
        "\n",
        "## Outputs\n",
        "\n",
        "* Data plots/visualizations for the Streamlit app. (Business Requirement 1)\n",
        "* docs/plots/box_plot_price_by_KitchenQual.png\n",
        "* docs/plots/box_plot_price_by_OverallQual.png\n",
        "* docs/plots/heatmap_corr_pearson.png\n",
        "* docs/plots/heatmap_corr_spearman.png\n",
        "* docs/plots/heatmap_pps.png\n",
        "* docs/plots/hist_plot_SalePrice.png\n",
        "* docs/plots/line_plot_price_by_YearBuilt.png\n",
        "* docs/plots/line_plot_price_by_YearRemodAdd.png\n",
        "* docs/plots/lm_plot_price_by_1stFlrSF.png\n",
        "* docs/plots/lm_plot_price_by_GarageArea.png\n",
        "* docs/plots/lm_plot_price_by_GrLivArea.png\n",
        "* docs/plots/lm_plot_price_by_MasVnrArea.png\n",
        "* docs/plots/lm_plot_price_by_OpenPorchSF.png\n",
        "* docs/plots/lm_plot_price_by_TotalBsmtSF.png\n",
        "\n",
        "## Additional Comments\n",
        "\n",
        "* This notebook deals with Business Requirement 1: Visualization of Data and Analysis of Correlations."
      ]
    },
    {
      "cell_type": "markdown",
      "metadata": {
        "id": "9uWZXH9LwoQg"
      },
      "source": [
        "---"
      ]
    },
    {
      "cell_type": "markdown",
      "metadata": {
        "id": "cqP-UeN-z3i2"
      },
      "source": [
        "# Change working directory"
      ]
    },
    {
      "cell_type": "markdown",
      "metadata": {},
      "source": [
        "* We are assuming you will store the notebooks in a subfolder, therefore when running the notebook in the editor, you will need to change the working directory"
      ]
    },
    {
      "cell_type": "markdown",
      "metadata": {
        "id": "aOGIGS-uz3i2"
      },
      "source": [
        "We need to change the working directory from its current folder to its parent folder\n",
        "* We access the current directory with os.getcwd()"
      ]
    },
    {
      "cell_type": "code",
      "execution_count": null,
      "metadata": {
        "id": "wZfF_j-Bz3i4",
        "outputId": "66943449-1436-4c3d-85c7-b85f9f78349b"
      },
      "outputs": [],
      "source": [
        "import os\n",
        "current_dir = os.getcwd()\n",
        "current_dir"
      ]
    },
    {
      "cell_type": "markdown",
      "metadata": {
        "id": "9MWW8E7lz3i7"
      },
      "source": [
        "We want to make the parent of the current directory the new current directory\n",
        "* os.path.dirname() gets the parent directory\n",
        "* os.chir() defines the new current directory"
      ]
    },
    {
      "cell_type": "code",
      "execution_count": null,
      "metadata": {
        "id": "TwHsQRWjz3i9",
        "outputId": "86849db3-cd2f-4cc5-ebb8-2d0caafa1a2c"
      },
      "outputs": [],
      "source": [
        "os.chdir(os.path.dirname(current_dir))\n",
        "print(\"You set a new current directory\")"
      ]
    },
    {
      "cell_type": "markdown",
      "metadata": {
        "id": "M_xPk_Ijz3i-"
      },
      "source": [
        "Confirm the new current directory"
      ]
    },
    {
      "cell_type": "code",
      "execution_count": null,
      "metadata": {
        "id": "vz3S-_kjz3jA",
        "outputId": "00b79ae4-75d0-4a96-d193-ac9ef9847ea2"
      },
      "outputs": [],
      "source": [
        "current_dir = os.getcwd()\n",
        "current_dir"
      ]
    },
    {
      "cell_type": "markdown",
      "metadata": {},
      "source": [
        "Uses pandas library to load dataset into DataFrames df and displays the first 10 rows of the dataset."
      ]
    },
    {
      "cell_type": "code",
      "execution_count": null,
      "metadata": {},
      "outputs": [],
      "source": [
        "import pandas as pd\n",
        "df = pd.read_csv(\"outputs/datasets/cleaned/HousePricesCleaned.csv\")\n",
        "df.head(10)"
      ]
    },
    {
      "cell_type": "markdown",
      "metadata": {},
      "source": [
        "Generates an exploratory data analysis (EDA) report of Dataframe df."
      ]
    },
    {
      "cell_type": "code",
      "execution_count": null,
      "metadata": {},
      "outputs": [],
      "source": [
        "from ydata_profiling import ProfileReport\n",
        "profile = ProfileReport(df=df, minimal=True)\n",
        "profile.to_notebook_iframe()"
      ]
    },
    {
      "cell_type": "markdown",
      "metadata": {},
      "source": [
        "Applies one-hot encoding to categorical variables in DataFrame df."
      ]
    },
    {
      "cell_type": "code",
      "execution_count": null,
      "metadata": {},
      "outputs": [],
      "source": [
        "from feature_engine.encoding import OneHotEncoder\n",
        "encoder = OneHotEncoder(variables=df.columns[df.dtypes=='object'].to_list(), drop_last=False)\n",
        "df_ohe = encoder.fit_transform(df)\n",
        "print(df_ohe.shape)\n",
        "df_ohe.head(5)"
      ]
    },
    {
      "cell_type": "markdown",
      "metadata": {},
      "source": [
        " Create a new directory called \"docs/plots\"."
      ]
    },
    {
      "cell_type": "code",
      "execution_count": null,
      "metadata": {},
      "outputs": [],
      "source": [
        "import os\n",
        "\n",
        "try:\n",
        "  os.makedirs(\"docs/plots\")\n",
        "except Exception as e:\n",
        "  print(e)"
      ]
    },
    {
      "cell_type": "markdown",
      "metadata": {},
      "source": [
        "Defines several functions to calculate and visualize relationships between features in a dataset using correlations and Power Predictive Score (PPS)."
      ]
    },
    {
      "cell_type": "code",
      "execution_count": 8,
      "metadata": {},
      "outputs": [],
      "source": [
        "import numpy as np\n",
        "import ppscore as pps\n",
        "import seaborn as sns\n",
        "sns.set(style=\"whitegrid\")\n",
        "import matplotlib.pyplot as plt\n",
        "%matplotlib inline\n",
        "\n",
        "\n",
        "def heatmap_corr(df,threshold, figsize=(20,12), font_annot = 8):\n",
        "  \"\"\"\n",
        "  Function to create heatmap using correlations.\n",
        "  \"\"\"\n",
        "  if len(df.columns) > 1:\n",
        "    mask = np.zeros_like(df, dtype=bool)\n",
        "    mask[np.triu_indices_from(mask)] = True\n",
        "    mask[abs(df) < threshold] = True\n",
        "\n",
        "    fig, axes = plt.subplots(figsize=figsize)\n",
        "    sns.heatmap(df, annot=True, xticklabels=True, yticklabels=True,\n",
        "                mask=mask, cmap='viridis', annot_kws={\"size\": font_annot}, ax=axes,\n",
        "                linewidth=0.5\n",
        "                     )\n",
        "    axes.set_yticklabels(df.columns, rotation = 0)\n",
        "    plt.ylim(len(df.columns),0)\n",
        "    if df.name == \"corr_spearman\":\n",
        "      plt.savefig(f'docs/plots/heatmap_corr_spearman.png', bbox_inches='tight')\n",
        "    else:\n",
        "      plt.savefig(f'docs/plots/heatmap_corr_pearson.png', bbox_inches='tight')\n",
        "    plt.show()\n",
        "\n",
        "\n",
        "def heatmap_pps(df,threshold, figsize=(20,12), font_annot = 8):\n",
        "    \"\"\"\n",
        "    Function to create heatmap using pps.\n",
        "    \"\"\"\n",
        "    if len(df.columns) > 1:\n",
        "\n",
        "      mask = np.zeros_like(df, dtype=bool)\n",
        "      mask[abs(df) < threshold] = True\n",
        "\n",
        "      fig, ax = plt.subplots(figsize=figsize)\n",
        "      ax = sns.heatmap(df, annot=True, xticklabels=True,yticklabels=True,\n",
        "                       mask=mask,cmap='rocket_r', annot_kws={\"size\": font_annot},\n",
        "                       linewidth=0.05,linecolor='grey')\n",
        "      \n",
        "      plt.ylim(len(df.columns),0)\n",
        "      plt.savefig(f'docs/plots/heatmap_pps.png', bbox_inches='tight')\n",
        "      plt.show()\n",
        "\n",
        "\n",
        "def CalculateCorrAndPPS(df):\n",
        "  \"\"\"\n",
        "  Function to calculate correlations and pps.\n",
        "  \"\"\"\n",
        "  df_corr_spearman = df.corr(method=\"spearman\")\n",
        "  df_corr_spearman.name = 'corr_spearman'\n",
        "  df_corr_pearson = df.corr(method=\"pearson\")\n",
        "  df_corr_pearson.name = 'corr_pearson'\n",
        "\n",
        "  pps_matrix_raw = pps.matrix(df)\n",
        "  pps_matrix = pps_matrix_raw.filter(['x', 'y', 'ppscore']).pivot(columns='x', index='y', values='ppscore')\n",
        "\n",
        "  pps_score_stats = pps_matrix_raw.query(\"ppscore < 1\").filter(['ppscore']).describe().T\n",
        "  print(\"PPS threshold - check PPS score IQR to decide threshold for heatmap \\n\")\n",
        "  print(pps_score_stats.round(3))\n",
        "\n",
        "  return df_corr_pearson, df_corr_spearman, pps_matrix\n",
        "\n",
        "\n",
        "def DisplayCorrAndPPS(df_corr_pearson, df_corr_spearman, pps_matrix,CorrThreshold,PPS_Threshold,\n",
        "                      figsize=(20,12), font_annot=8 ):\n",
        "  \"\"\"\n",
        "  Function to display the correlations and pps.\n",
        "  \"\"\"\n",
        "\n",
        "  print(\"\\n\")\n",
        "  print(\"* Analyze how the target variable for your ML models are correlated with other variables (features and target)\")\n",
        "  print(\"* Analyze multi-colinearity, that is, how the features are correlated among themselves\")\n",
        "\n",
        "  print(\"\\n\")\n",
        "  print(\"*** Heatmap: Spearman Correlation ***\")\n",
        "  print(\"It evaluates monotonic relationship \\n\")\n",
        "  heatmap_corr(df=df_corr_spearman, threshold=CorrThreshold, figsize=figsize, font_annot=font_annot)\n",
        "\n",
        "  print(\"\\n\")\n",
        "  print(\"*** Heatmap: Pearson Correlation ***\")\n",
        "  print(\"It evaluates the linear relationship between two continuous variables \\n\")\n",
        "  heatmap_corr(df=df_corr_pearson, threshold=CorrThreshold, figsize=figsize, font_annot=font_annot)\n",
        "\n",
        "  print(\"\\n\")\n",
        "  print(\"*** Heatmap: Power Predictive Score (PPS) ***\")\n",
        "  print(f\"PPS detects linear or non-linear relationships between two columns.\\n\"\n",
        "        f\"The score ranges from 0 (no predictive power) to 1 (perfect predictive power) \\n\")\n",
        "  heatmap_pps(df=pps_matrix,threshold=PPS_Threshold, figsize=figsize, font_annot=font_annot)"
      ]
    },
    {
      "cell_type": "markdown",
      "metadata": {},
      "source": [
        "Suppresses FutureWarnings and calls the CalculateCorrAndPPS function on the DataFrame df_ohe, which computes both Spearman and Pearson correlation matrices, as well as the Power Predictive Score (PPS) matrix. The results are stored in the variables df_corr_pearson, df_corr_spearman, and pps_matrix for further analysis or visualization."
      ]
    },
    {
      "cell_type": "code",
      "execution_count": null,
      "metadata": {},
      "outputs": [],
      "source": [
        "import warnings\n",
        "warnings.simplefilter(action='ignore', category=FutureWarning)\n",
        "df_corr_pearson, df_corr_spearman, pps_matrix = CalculateCorrAndPPS(df_ohe)"
      ]
    },
    {
      "cell_type": "markdown",
      "metadata": {},
      "source": [
        "Calls the DisplayCorrAndPPS function to visualize the correlation and Power Predictive Score (PPS) matrices."
      ]
    },
    {
      "cell_type": "code",
      "execution_count": null,
      "metadata": {},
      "outputs": [],
      "source": [
        "DisplayCorrAndPPS(df_corr_pearson = df_corr_pearson,\n",
        "                  df_corr_spearman = df_corr_spearman, \n",
        "                  pps_matrix = pps_matrix,\n",
        "                  CorrThreshold = 0.4, PPS_Threshold =0.2,\n",
        "                  figsize=(12,10), font_annot=10)"
      ]
    },
    {
      "cell_type": "markdown",
      "metadata": {},
      "source": [
        "Calculates the Spearman correlation coefficients between all columns in the df_ohe DataFrame and the target variable `SalePrice`"
      ]
    },
    {
      "cell_type": "code",
      "execution_count": null,
      "metadata": {},
      "outputs": [],
      "source": [
        "corr_spearman = df_ohe.corr(method='spearman')['SalePrice'].sort_values(key=abs, ascending=False)[1:].head(10)\n",
        "corr_spearman"
      ]
    },
    {
      "cell_type": "markdown",
      "metadata": {},
      "source": [
        "Calculates the Pearson correlation coefficients between all columns in the df_ohe DataFrame and the target variable `SalePrice`"
      ]
    },
    {
      "cell_type": "code",
      "execution_count": null,
      "metadata": {},
      "outputs": [],
      "source": [
        "corr_pearson = df_ohe.corr(method='pearson')['SalePrice'].sort_values(key=abs, ascending=False)[1:].head(10)\n",
        "corr_pearson"
      ]
    },
    {
      "cell_type": "markdown",
      "metadata": {},
      "source": [
        "Creates a set containing the top 10 features most strongly correlated with `SalePrice`"
      ]
    },
    {
      "cell_type": "code",
      "execution_count": null,
      "metadata": {},
      "outputs": [],
      "source": [
        "top_n = 10\n",
        "set(corr_pearson[:top_n].index.to_list() + corr_spearman[:top_n].index.to_list())"
      ]
    },
    {
      "cell_type": "markdown",
      "metadata": {},
      "source": [
        "Defines a list called vars_to_study that contains variables which are considered important for further analysis."
      ]
    },
    {
      "cell_type": "code",
      "execution_count": null,
      "metadata": {},
      "outputs": [],
      "source": [
        "vars_to_study = [\n",
        "    '1stFlrSF',\n",
        "    'GarageArea',\n",
        "    'GrLivArea',\n",
        "    'KitchenQual',\n",
        "    'MasVnrArea',\n",
        "    'OpenPorchSF',\n",
        "    'OverallQual',\n",
        "    'TotalBsmtSF',\n",
        "    'YearBuilt',\n",
        "    'YearRemodAdd'\n",
        "]\n",
        "vars_to_study"
      ]
    },
    {
      "cell_type": "markdown",
      "metadata": {},
      "source": [
        "Creates a new DataFrame called df_eda by filtering the original df DataFrame to include only the columns specified in the vars_to_study and target variable `SalePrice`"
      ]
    },
    {
      "cell_type": "code",
      "execution_count": null,
      "metadata": {},
      "outputs": [],
      "source": [
        "df_eda = df.filter(vars_to_study + ['SalePrice'])\n",
        "df_eda.head()"
      ]
    },
    {
      "cell_type": "markdown",
      "metadata": {},
      "source": [
        "Defines a function to create and save a histogram of the `SalePrice` distribution with a KDE overlay."
      ]
    },
    {
      "cell_type": "code",
      "execution_count": null,
      "metadata": {},
      "outputs": [],
      "source": [
        "sns.set_style('whitegrid')\n",
        "target_var = 'SalePrice'\n",
        "\n",
        "def plot_target_hist(df, target_var):\n",
        "  \"\"\"\n",
        "  Function to create histogram of the values of target.\n",
        "  Save histogram into docs/plots for use in dashboard\n",
        "  \"\"\"\n",
        "  plt.figure(figsize=(12, 6))\n",
        "  sns.histplot(data=df, x=target_var, kde=True)\n",
        "  plt.title(f\"Distribution of {target_var}\", fontsize=20)\n",
        "  plt.savefig(f'docs/plots/hist_plot_{target_var}.png', bbox_inches='tight')        \n",
        "  plt.show()\n",
        "\n",
        "plot_target_hist(df, target_var)"
      ]
    },
    {
      "cell_type": "markdown",
      "metadata": {},
      "source": [
        "Defines three functions to visualize the relationship between the target variable `SalePrice` and various features."
      ]
    },
    {
      "cell_type": "code",
      "execution_count": null,
      "metadata": {},
      "outputs": [],
      "source": [
        "time = ['YearBuilt', 'YearRemodAdd']\n",
        "\n",
        "def plot_lm(df, col, target_var):\n",
        "  \"\"\"\n",
        "  Function to create linear regression plots of the target and\n",
        "  features with continuous values.\n",
        "  Figures created saved to folder docs/plots\n",
        "  \"\"\"\n",
        "  plt.figure(figsize=(12, 5))\n",
        "  sns.lmplot(data=df, x=col, y=target_var, ci=None)\n",
        "  plt.title(f\"{col}\", fontsize=20)\n",
        "  plt.savefig(f'docs/plots/lm_plot_price_by_{col}.png', bbox_inches='tight')        \n",
        "  plt.show()\n",
        "\n",
        "def plot_line(df, col, target_var):\n",
        "  \"\"\"\n",
        "  Function creates a line plot of the target and time variables.\n",
        "  Figures created saved to folder docs/plots\n",
        "  \"\"\"\n",
        "  plt.figure(figsize=(12, 5))\n",
        "  sns.lineplot(data=df, x=col, y=target_var)\n",
        "  plt.title(f\"{col}\", fontsize=20)\n",
        "  plt.savefig(f'docs/plots/line_plot_price_by_{col}.png', bbox_inches='tight')        \n",
        "  plt.show()\n",
        "\n",
        "def plot_box(df, col, target_var):\n",
        "  \"\"\"\n",
        "  Function creates a box plot of the target versus categorical variables.\n",
        "  Figures created saved to folder docs/plots\n",
        "  \"\"\"\n",
        "  plt.figure(figsize=(8, 5))\n",
        "  sns.boxplot(data=df, x=col, y=target_var) \n",
        "  plt.title(f\"{col}\", fontsize=20)\n",
        "  plt.savefig(f'docs/plots/box_plot_price_by_{col}', bbox_inches='tight')\n",
        "  plt.show()\n",
        "\n",
        "\n",
        "for col in vars_to_study:\n",
        "  if len(df_eda[col].unique()) <= 10:\n",
        "    plot_box(df_eda, col, target_var)\n",
        "    print(\"\\n\\n\")\n",
        "  else:\n",
        "    if col in time:\n",
        "      plot_line(df_eda, col, target_var)\n",
        "      print(\"\\n\\n\")\n",
        "    else:\n",
        "      plot_lm(df_eda, col, target_var)\n",
        "      print(\"\\n\\n\")"
      ]
    },
    {
      "cell_type": "markdown",
      "metadata": {},
      "source": [
        "## Conclusions and Next Steps"
      ]
    }
  ],
  "metadata": {
    "accelerator": "GPU",
    "colab": {
      "name": "Data Practitioner Jupyter Notebook.ipynb",
      "provenance": [],
      "toc_visible": true
    },
    "kernelspec": {
      "display_name": "Python 3",
      "language": "python",
      "name": "python3"
    },
    "language_info": {
      "codemirror_mode": {
        "name": "ipython",
        "version": 3
      },
      "file_extension": ".py",
      "mimetype": "text/x-python",
      "name": "python",
      "nbconvert_exporter": "python",
      "pygments_lexer": "ipython3",
      "version": "3.12.1"
    },
    "orig_nbformat": 2
  },
  "nbformat": 4,
  "nbformat_minor": 2
}
